{
 "cells": [
  {
   "cell_type": "markdown",
   "metadata": {},
   "source": [
    "### The code below fetches the image patches of helsinki region."
   ]
  },
  {
   "cell_type": "code",
   "execution_count": 1,
   "metadata": {},
   "outputs": [],
   "source": [
    "# Importing the required libraries\n",
    "from owslib.wms import WebMapService\n",
    "import os"
   ]
  },
  {
   "cell_type": "code",
   "execution_count": 2,
   "metadata": {},
   "outputs": [],
   "source": [
    "# api for extracting the aerial image \n",
    "wms = WebMapService('https://kartta.hel.fi/ws/geoserver/avoindata/wms', version='1.3.0')"
   ]
  },
  {
   "cell_type": "code",
   "execution_count": 3,
   "metadata": {},
   "outputs": [],
   "source": [
    "## minX,minY,maxX,maxY are the geographical latitudes and longitudes of interset\n",
    "minX=24.94516252\n",
    "minY=60.18375355\n",
    "maxX=24.97737761\n",
    "maxY=60.19965233\n",
    "min_x_cord=[]\n",
    "max_x_cord=[]\n",
    "min_y_cord=[]\n",
    "max_y_cord=[]\n",
    "img_name=[]\n",
    "a=np.linspace(minX,maxX,30)\n",
    "b=np.linspace(minY,maxY,30)\n",
    "counter=0\n",
    "imgpath=\"C:/Users/35841/images/moredata4/\"\n",
    "image_files=[f for f in os.listdir(imgpath)]\n",
    "\n",
    "##Creating patches for the image. Number of images = 29*29\n",
    "for i in range(0,len(a)-1):\n",
    "    for j in range(0,len(b)-1):\n",
    "        image_name='train_'+str(counter)\n",
    "        if not image_files:\n",
    "            img=wms.getmap(layers=[\"Ortoilmakuva_2019_5cm\"],srs=\"EPSG:4123\",bbox=(a[i],b[j],a[i+1],b[j+1]),size=(500,500),format='image/png',transparent=True)\n",
    "            out = open(\"C:/Users/35841/images/moredata4/\"+image_name+'.png', 'wb')\n",
    "            out.write(img.read())\n",
    "            out.close()\n",
    "        min_x_cord.append(a[i])\n",
    "        min_y_cord.append(b[j])\n",
    "        max_x_cord.append(a[i+1])\n",
    "        max_y_cord.append(b[j+1])\n",
    "        img_name.append(image_name)\n",
    "        counter+=1"
   ]
  },
  {
   "cell_type": "code",
   "execution_count": null,
   "metadata": {},
   "outputs": [],
   "source": []
  }
 ],
 "metadata": {
  "kernelspec": {
   "display_name": "mllearn",
   "language": "python",
   "name": "mllearn"
  },
  "language_info": {
   "codemirror_mode": {
    "name": "ipython",
    "version": 3
   },
   "file_extension": ".py",
   "mimetype": "text/x-python",
   "name": "python",
   "nbconvert_exporter": "python",
   "pygments_lexer": "ipython3",
   "version": "3.7.3"
  },
  "toc": {
   "base_numbering": 1,
   "nav_menu": {},
   "number_sections": false,
   "sideBar": true,
   "skip_h1_title": false,
   "title_cell": "Table of Contents",
   "title_sidebar": "Contents",
   "toc_cell": false,
   "toc_position": {},
   "toc_section_display": true,
   "toc_window_display": true
  },
  "varInspector": {
   "cols": {
    "lenName": 16,
    "lenType": 16,
    "lenVar": 40
   },
   "kernels_config": {
    "python": {
     "delete_cmd_postfix": "",
     "delete_cmd_prefix": "del ",
     "library": "var_list.py",
     "varRefreshCmd": "print(var_dic_list())"
    },
    "r": {
     "delete_cmd_postfix": ") ",
     "delete_cmd_prefix": "rm(",
     "library": "var_list.r",
     "varRefreshCmd": "cat(var_dic_list()) "
    }
   },
   "types_to_exclude": [
    "module",
    "function",
    "builtin_function_or_method",
    "instance",
    "_Feature"
   ],
   "window_display": false
  }
 },
 "nbformat": 4,
 "nbformat_minor": 2
}
