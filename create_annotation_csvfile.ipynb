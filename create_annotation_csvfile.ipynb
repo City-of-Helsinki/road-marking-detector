{
 "cells": [
  {
   "cell_type": "markdown",
   "metadata": {},
   "source": [
    "### Creating annotation.csv and arranging the images in corresponding folders of our needs"
   ]
  },
  {
   "cell_type": "code",
   "execution_count": 1,
   "metadata": {},
   "outputs": [],
   "source": [
    "import os \n",
    "import pandas as pd\n",
    "import numpy as np\n",
    "import shutil\n",
    "import zipfile\n",
    "import urllib\n",
    "import xml.etree.ElementTree as ET\n",
    "import csv"
   ]
  },
  {
   "cell_type": "code",
   "execution_count": 2,
   "metadata": {},
   "outputs": [
    {
     "name": "stdout",
     "output_type": "stream",
     "text": [
      "Files created\n"
     ]
    }
   ],
   "source": [
    "# After labelling the images using labelImg \"https://github.com/tzutalin/labelImg\", the code below creates the annotaion file\n",
    "ANNOTATIONS_FILE = 'annotations.csv'\n",
    "CLASSES_FILE = 'classes.csv'\n",
    "\n",
    "annotations = []\n",
    "classes = set([])\n",
    "DATASET_DIR=\"C:/Users/35841/rcnn/images_annotation/annots/\"\n",
    "for xml_file in [f for f in os.listdir(DATASET_DIR) if f.endswith(\".xml\")]:\n",
    "  tree = ET.parse(os.path.join(DATASET_DIR, xml_file))\n",
    "  root = tree.getroot()\n",
    "\n",
    "  file_name = None\n",
    "\n",
    "  for elem in root:\n",
    "    if elem.tag == 'filename':\n",
    "      file_name = os.path.join(DATASET_DIR, elem.text)\n",
    "\n",
    "    if elem.tag == 'object':\n",
    "      obj_name = None\n",
    "      coords = []\n",
    "      for subelem in elem:\n",
    "        if subelem.tag == 'name':\n",
    "          obj_name = subelem.text\n",
    "        if subelem.tag == 'bndbox':\n",
    "          for subsubelem in subelem:\n",
    "            coords.append(subsubelem.text)\n",
    "      item = [file_name] + coords + [obj_name]\n",
    "      annotations.append(item)\n",
    "      classes.add(obj_name)\n",
    "\n",
    "with open(ANNOTATIONS_FILE, 'w') as f:\n",
    "  writer = csv.writer(f)\n",
    "  writer.writerows(annotations)\n",
    "\n",
    "with open(CLASSES_FILE, 'w') as f:\n",
    "  for i, line in enumerate(classes):\n",
    "    f.write('{},{}\\n'.format(line,i))\n",
    "\n",
    "print(\"Files created\")"
   ]
  },
  {
   "cell_type": "code",
   "execution_count": 3,
   "metadata": {},
   "outputs": [
    {
     "data": {
      "text/html": [
       "<div>\n",
       "<style scoped>\n",
       "    .dataframe tbody tr th:only-of-type {\n",
       "        vertical-align: middle;\n",
       "    }\n",
       "\n",
       "    .dataframe tbody tr th {\n",
       "        vertical-align: top;\n",
       "    }\n",
       "\n",
       "    .dataframe thead th {\n",
       "        text-align: right;\n",
       "    }\n",
       "</style>\n",
       "<table border=\"1\" class=\"dataframe\">\n",
       "  <thead>\n",
       "    <tr style=\"text-align: right;\">\n",
       "      <th></th>\n",
       "      <th>0</th>\n",
       "      <th>1</th>\n",
       "      <th>2</th>\n",
       "      <th>3</th>\n",
       "      <th>4</th>\n",
       "      <th>5</th>\n",
       "    </tr>\n",
       "  </thead>\n",
       "  <tbody>\n",
       "    <tr>\n",
       "      <th>0</th>\n",
       "      <td>C:/Users/35841/rcnn/images_annotation/annots/t...</td>\n",
       "      <td>377</td>\n",
       "      <td>236</td>\n",
       "      <td>476</td>\n",
       "      <td>331</td>\n",
       "      <td>n</td>\n",
       "    </tr>\n",
       "    <tr>\n",
       "      <th>1</th>\n",
       "      <td>C:/Users/35841/rcnn/images_annotation/annots/t...</td>\n",
       "      <td>393</td>\n",
       "      <td>354</td>\n",
       "      <td>489</td>\n",
       "      <td>459</td>\n",
       "      <td>n</td>\n",
       "    </tr>\n",
       "    <tr>\n",
       "      <th>2</th>\n",
       "      <td>C:/Users/35841/rcnn/images_annotation/annots/t...</td>\n",
       "      <td>102</td>\n",
       "      <td>140</td>\n",
       "      <td>248</td>\n",
       "      <td>328</td>\n",
       "      <td>n</td>\n",
       "    </tr>\n",
       "    <tr>\n",
       "      <th>3</th>\n",
       "      <td>C:/Users/35841/rcnn/images_annotation/annots/t...</td>\n",
       "      <td>79</td>\n",
       "      <td>308</td>\n",
       "      <td>267</td>\n",
       "      <td>407</td>\n",
       "      <td>n</td>\n",
       "    </tr>\n",
       "    <tr>\n",
       "      <th>4</th>\n",
       "      <td>C:/Users/35841/rcnn/images_annotation/annots/t...</td>\n",
       "      <td>227</td>\n",
       "      <td>87</td>\n",
       "      <td>361</td>\n",
       "      <td>204</td>\n",
       "      <td>n</td>\n",
       "    </tr>\n",
       "  </tbody>\n",
       "</table>\n",
       "</div>"
      ],
      "text/plain": [
       "                                                   0    1    2    3    4  5\n",
       "0  C:/Users/35841/rcnn/images_annotation/annots/t...  377  236  476  331  n\n",
       "1  C:/Users/35841/rcnn/images_annotation/annots/t...  393  354  489  459  n\n",
       "2  C:/Users/35841/rcnn/images_annotation/annots/t...  102  140  248  328  n\n",
       "3  C:/Users/35841/rcnn/images_annotation/annots/t...   79  308  267  407  n\n",
       "4  C:/Users/35841/rcnn/images_annotation/annots/t...  227   87  361  204  n"
      ]
     },
     "execution_count": 3,
     "metadata": {},
     "output_type": "execute_result"
    }
   ],
   "source": [
    "annot_df=pd.read_csv(\"annotations.csv\",header=None)\n",
    "annot_df.head(5)"
   ]
  },
  {
   "cell_type": "code",
   "execution_count": 4,
   "metadata": {},
   "outputs": [
    {
     "name": "stdout",
     "output_type": "stream",
     "text": [
      "<class 'pandas.core.frame.DataFrame'>\n",
      "RangeIndex: 2537 entries, 0 to 2536\n",
      "Data columns (total 6 columns):\n",
      "0    2537 non-null object\n",
      "1    2537 non-null int64\n",
      "2    2537 non-null int64\n",
      "3    2537 non-null int64\n",
      "4    2537 non-null int64\n",
      "5    2537 non-null object\n",
      "dtypes: int64(4), object(2)\n",
      "memory usage: 119.0+ KB\n"
     ]
    }
   ],
   "source": [
    "annot_df.info()"
   ]
  },
  {
   "cell_type": "code",
   "execution_count": 5,
   "metadata": {},
   "outputs": [
    {
     "data": {
      "text/html": [
       "<div>\n",
       "<style scoped>\n",
       "    .dataframe tbody tr th:only-of-type {\n",
       "        vertical-align: middle;\n",
       "    }\n",
       "\n",
       "    .dataframe tbody tr th {\n",
       "        vertical-align: top;\n",
       "    }\n",
       "\n",
       "    .dataframe thead th {\n",
       "        text-align: right;\n",
       "    }\n",
       "</style>\n",
       "<table border=\"1\" class=\"dataframe\">\n",
       "  <thead>\n",
       "    <tr style=\"text-align: right;\">\n",
       "      <th></th>\n",
       "      <th>0</th>\n",
       "      <th>1</th>\n",
       "      <th>2</th>\n",
       "      <th>3</th>\n",
       "      <th>4</th>\n",
       "      <th>5</th>\n",
       "    </tr>\n",
       "  </thead>\n",
       "  <tbody>\n",
       "    <tr>\n",
       "      <th>5</th>\n",
       "      <td>train_1004.png</td>\n",
       "      <td>13</td>\n",
       "      <td>1</td>\n",
       "      <td>145</td>\n",
       "      <td>106</td>\n",
       "      <td>c</td>\n",
       "    </tr>\n",
       "    <tr>\n",
       "      <th>6</th>\n",
       "      <td>train_1004.png</td>\n",
       "      <td>168</td>\n",
       "      <td>42</td>\n",
       "      <td>271</td>\n",
       "      <td>146</td>\n",
       "      <td>c</td>\n",
       "    </tr>\n",
       "    <tr>\n",
       "      <th>7</th>\n",
       "      <td>train_1004.png</td>\n",
       "      <td>131</td>\n",
       "      <td>177</td>\n",
       "      <td>257</td>\n",
       "      <td>261</td>\n",
       "      <td>c</td>\n",
       "    </tr>\n",
       "    <tr>\n",
       "      <th>8</th>\n",
       "      <td>train_1004.png</td>\n",
       "      <td>1</td>\n",
       "      <td>119</td>\n",
       "      <td>107</td>\n",
       "      <td>259</td>\n",
       "      <td>c</td>\n",
       "    </tr>\n",
       "    <tr>\n",
       "      <th>14</th>\n",
       "      <td>train_1016.png</td>\n",
       "      <td>213</td>\n",
       "      <td>191</td>\n",
       "      <td>428</td>\n",
       "      <td>407</td>\n",
       "      <td>c</td>\n",
       "    </tr>\n",
       "  </tbody>\n",
       "</table>\n",
       "</div>"
      ],
      "text/plain": [
       "                 0    1    2    3    4  5\n",
       "5   train_1004.png   13    1  145  106  c\n",
       "6   train_1004.png  168   42  271  146  c\n",
       "7   train_1004.png  131  177  257  261  c\n",
       "8   train_1004.png    1  119  107  259  c\n",
       "14  train_1016.png  213  191  428  407  c"
      ]
     },
     "execution_count": 5,
     "metadata": {},
     "output_type": "execute_result"
    }
   ],
   "source": [
    "annot_df[0]=annot_df[0].str.replace(\"C:/Users/35841/rcnn/images_annotation/annots/\",\"\")\n",
    "cross_labelled=annot_df[annot_df[5]==\"c\"]\n",
    "cross_labelled.head()"
   ]
  },
  {
   "cell_type": "code",
   "execution_count": 6,
   "metadata": {},
   "outputs": [],
   "source": [
    "image_files=[f for f in os.listdir(\"C:/Users/35841/rcnn/images_annotation/images/\")]\n"
   ]
  },
  {
   "cell_type": "code",
   "execution_count": 7,
   "metadata": {},
   "outputs": [
    {
     "data": {
      "text/plain": [
       "1204"
      ]
     },
     "execution_count": 7,
     "metadata": {},
     "output_type": "execute_result"
    }
   ],
   "source": [
    "cross_labelled.shape[0]"
   ]
  },
  {
   "cell_type": "code",
   "execution_count": 8,
   "metadata": {},
   "outputs": [],
   "source": [
    "if not [f for f in os.listdir(\"C:/Users/35841/rcnn/images_annotation/c_images/\")]:\n",
    "    for i in range(0,cross_labelled.shape[0]):\n",
    "        if cross_labelled.iloc[i,0] in image_files:\n",
    "            forename=cross_labelled.iloc[i,0].split(\".\")[0]\n",
    "        \n",
    "            #print(cross_labelled.iloc[i,0])\n",
    "            #print(forename)\n",
    "            shutil.copyfile(\"C:/Users/35841/rcnn/images_annotation/annots/\"+forename+\".xml\", \"C:/Users/35841/rcnn/images_annotation/c_annots/\"+forename+\".xml\")\n",
    "            shutil.copyfile(\"C:/Users/35841/rcnn/images_annotation/images/\"+cross_labelled.iloc[i,0], \"C:/Users/35841/rcnn/images_annotation/c_images/\"+cross_labelled.iloc[i,0]) "
   ]
  },
  {
   "cell_type": "code",
   "execution_count": null,
   "metadata": {},
   "outputs": [],
   "source": []
  }
 ],
 "metadata": {
  "kernelspec": {
   "display_name": "Python 3",
   "language": "python",
   "name": "python3"
  },
  "language_info": {
   "codemirror_mode": {
    "name": "ipython",
    "version": 3
   },
   "file_extension": ".py",
   "mimetype": "text/x-python",
   "name": "python",
   "nbconvert_exporter": "python",
   "pygments_lexer": "ipython3",
   "version": "3.7.6"
  },
  "toc": {
   "base_numbering": 1,
   "nav_menu": {},
   "number_sections": false,
   "sideBar": true,
   "skip_h1_title": false,
   "title_cell": "Table of Contents",
   "title_sidebar": "Contents",
   "toc_cell": false,
   "toc_position": {},
   "toc_section_display": true,
   "toc_window_display": true
  },
  "varInspector": {
   "cols": {
    "lenName": 16,
    "lenType": 16,
    "lenVar": 40
   },
   "kernels_config": {
    "python": {
     "delete_cmd_postfix": "",
     "delete_cmd_prefix": "del ",
     "library": "var_list.py",
     "varRefreshCmd": "print(var_dic_list())"
    },
    "r": {
     "delete_cmd_postfix": ") ",
     "delete_cmd_prefix": "rm(",
     "library": "var_list.r",
     "varRefreshCmd": "cat(var_dic_list()) "
    }
   },
   "types_to_exclude": [
    "module",
    "function",
    "builtin_function_or_method",
    "instance",
    "_Feature"
   ],
   "window_display": false
  }
 },
 "nbformat": 4,
 "nbformat_minor": 4
}
